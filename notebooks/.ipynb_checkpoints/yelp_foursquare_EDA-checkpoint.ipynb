{
 "cells": [
  {
   "cell_type": "code",
   "execution_count": 1,
   "metadata": {},
   "outputs": [],
   "source": [
    "# imports\n",
    "import os\n",
    "import requests\n",
    "from IPython.display import JSON\n",
    "import pandas as pd"
   ]
  },
  {
   "cell_type": "code",
   "execution_count": 2,
   "metadata": {},
   "outputs": [
    {
     "data": {
      "text/plain": [
       "['-36.853235,174.770765',\n",
       " '-36.854561,174.763019',\n",
       " '-36.853544,174.757354',\n",
       " '-36.846182,174.76142',\n",
       " '-36.84771,174.767026']"
      ]
     },
     "execution_count": 2,
     "metadata": {},
     "output_type": "execute_result"
    }
   ],
   "source": [
    "# retrieve bike station data from CityBikes\n",
    "citybikes_df = pd.read_csv('../data/citybikes.csv')\n",
    "citybikes_df\n",
    "\n",
    "# extract latitude/longitude for each bike station\n",
    "num_stations = citybikes_df.shape[0]\n",
    "lat_lons = []\n",
    "for i in range(num_stations):\n",
    "    lat = citybikes_df.loc[i,'latitude']\n",
    "    lon = citybikes_df.loc[i,'longitude']\n",
    "    lat_lons.append(str(lat) + ',' + str(lon))\n",
    "lat_lons[:5]"
   ]
  },
  {
   "cell_type": "markdown",
   "metadata": {},
   "source": [
    "# Foursquare"
   ]
  },
  {
   "cell_type": "markdown",
   "metadata": {},
   "source": [
    "Send a request to Foursquare with a small radius (1000m) for all the bike stations in your city of choice. "
   ]
  },
  {
   "cell_type": "code",
   "execution_count": 3,
   "metadata": {},
   "outputs": [
    {
     "data": {
      "application/json": [
       {
        "distance": 179,
        "geocodes": {
         "main": {
          "latitude": -36.851812,
          "longitude": 174.769457
         }
        },
        "location": {
         "address": "2 Alfred Street",
         "country": "NZ",
         "cross_street": "Student Commons, Level 4",
         "formatted_address": "2 Alfred Street (Student Commons, Level 4), Auckland 0620",
         "locality": "Auckland",
         "postcode": "0620",
         "region": "Auckland"
        },
        "name": "Strata Cafe University of Auckland",
        "popularity": 0.8720420840963768,
        "price": 1,
        "rating": 6.5,
        "station_idx": 0,
        "verified": false
       },
       {
        "distance": 253,
        "geocodes": {
         "drop_off": {
          "latitude": -36.851915,
          "longitude": 174.768227
         },
         "main": {
          "latitude": -36.85209,
          "longitude": 174.768454
         }
        },
        "location": {
         "address": "30-38 Princes Street",
         "country": "NZ",
         "cross_street": "",
         "formatted_address": "30-38 Princes Street, Auckland",
         "locality": "Auckland",
         "region": "Auckland"
        },
        "name": "Relax a Lodge",
        "popularity": 0.847445150633775,
        "price": 1,
        "rating": 6.7,
        "station_idx": 0,
        "verified": false
       },
       {
        "distance": 206,
        "geocodes": {
         "main": {
          "latitude": -36.852262,
          "longitude": 174.768509
         }
        },
        "location": {
         "address": "30-38 Princes Street",
         "country": "NZ",
         "cross_street": "",
         "formatted_address": "30-38 Princes Street, Auckland",
         "locality": "Auckland",
         "region": "Auckland"
        },
        "name": "Uni Sushi",
        "popularity": 0.7824517936012065,
        "price": 2,
        "rating": 6.3,
        "station_idx": 0,
        "verified": false
       },
       {
        "distance": 404,
        "geocodes": {
         "main": {
          "latitude": -36.854518,
          "longitude": 174.765025
         }
        },
        "location": {
         "address": "57-59 Wakefield St",
         "address_extended": "First Floor",
         "country": "NZ",
         "formatted_address": "57-59 Wakefield St, Central Business District 1010",
         "locality": "Central Business District",
         "postcode": "1010",
         "region": "Auckland"
        },
        "name": "Jin Hai Wan Chinese Seafood Restaurant",
        "popularity": 0.8624008043376782,
        "price": 1,
        "rating": 7.9,
        "station_idx": 0,
        "verified": false
       },
       {
        "distance": 400,
        "geocodes": {
         "main": {
          "latitude": -36.852549,
          "longitude": 174.766527
         }
        },
        "location": {
         "address": "55 Wellesley Street East",
         "country": "NZ",
         "cross_street": "Mayrol Drive",
         "formatted_address": "55 Wellesley Street East (Mayrol Drive), Auckland 1010",
         "locality": "Auckland",
         "postcode": "1010",
         "region": "Auckland"
        },
        "name": "Piko Cafe",
        "popularity": 0.95299651693059,
        "price": 1,
        "rating": 7.3,
        "station_idx": 0,
        "verified": true
       }
      ],
      "text/plain": [
       "<IPython.core.display.JSON object>"
      ]
     },
     "execution_count": 3,
     "metadata": {
      "application/json": {
       "expanded": false,
       "root": "root"
      }
     },
     "output_type": "execute_result"
    }
   ],
   "source": [
    "# retrieve api key from local environment variables\n",
    "foursquare_api_key = os.environ[\"FOURSQUARE_API_KEY\"]\n",
    "# create dictionary for headers\n",
    "headers = {\"Accept\": \"application/json\"}\n",
    "headers['Authorization'] = foursquare_api_key\n",
    "\n",
    "# create dictionary for params, with placeholder for latitude/longitude\n",
    "params = {}\n",
    "params['ll'] = '0,0'\n",
    "params['radius'] = '1000'\n",
    "params['fields'] = 'rating,name,price,location,popularity,verified,distance,geocodes'\n",
    "params['query'] = 'restaurant'\n",
    "\n",
    "# set foursquare api url and placeholder for results\n",
    "url = 'https://api.foursquare.com/v3/places/search'\n",
    "foursquare_json = []\n",
    "\n",
    "# query foursquare for each bike station and collect the results\n",
    "for i in range(num_stations):\n",
    "    params['ll'] = lat_lons[i]\n",
    "    result = requests.get(url, params = params, headers = headers)\n",
    "    result_json = result.json()['results']\n",
    "    # record the station index for later use\n",
    "    for poi in result_json:\n",
    "        poi['station_idx'] = i\n",
    "    foursquare_json.extend(result_json)\n",
    "JSON(foursquare_json[:5])"
   ]
  },
  {
   "cell_type": "markdown",
   "metadata": {},
   "source": [
    "Parse through the response to get the POI (such as restaurants, bars, etc) details you want (ratings, name, location, etc)"
   ]
  },
  {
   "cell_type": "code",
   "execution_count": 4,
   "metadata": {},
   "outputs": [
    {
     "data": {
      "application/json": [
       {
        "address": "2 Alfred Street",
        "distance": 179,
        "lat_lon": "-36.851812,174.769457",
        "name": "Strata Cafe University of Auckland",
        "popularity": 0.8720420840963768,
        "price": 1,
        "rating": 6.5,
        "station_idx": 0,
        "verified": false
       },
       {
        "address": "30-38 Princes Street",
        "distance": 253,
        "lat_lon": "-36.85209,174.768454",
        "name": "Relax a Lodge",
        "popularity": 0.847445150633775,
        "price": 1,
        "rating": 6.7,
        "station_idx": 0,
        "verified": false
       },
       {
        "address": "30-38 Princes Street",
        "distance": 206,
        "lat_lon": "-36.852262,174.768509",
        "name": "Uni Sushi",
        "popularity": 0.7824517936012065,
        "price": 2,
        "rating": 6.3,
        "station_idx": 0,
        "verified": false
       },
       {
        "address": "57-59 Wakefield St",
        "distance": 404,
        "lat_lon": "-36.854518,174.765025",
        "name": "Jin Hai Wan Chinese Seafood Restaurant",
        "popularity": 0.8624008043376782,
        "price": 1,
        "rating": 7.9,
        "station_idx": 0,
        "verified": false
       },
       {
        "address": "55 Wellesley Street East",
        "distance": 400,
        "lat_lon": "-36.852549,174.766527",
        "name": "Piko Cafe",
        "popularity": 0.95299651693059,
        "price": 1,
        "rating": 7.3,
        "station_idx": 0,
        "verified": true
       }
      ],
      "text/plain": [
       "<IPython.core.display.JSON object>"
      ]
     },
     "execution_count": 4,
     "metadata": {
      "application/json": {
       "expanded": false,
       "root": "root"
      }
     },
     "output_type": "execute_result"
    }
   ],
   "source": [
    "# placeholders for the foursquare parsing loop\n",
    "details_json = []\n",
    "details = {}\n",
    "\n",
    "# parse through the foursquare response for desired details\n",
    "for poi in foursquare_json:\n",
    "    address = poi['location']['address']\n",
    "    \n",
    "    # price is scale from 1-4, we'll use -1 if data missing\n",
    "    if 'price' not in poi:\n",
    "        price = -1\n",
    "    else:\n",
    "        price = poi['price']\n",
    "    \n",
    "    # rating is scale from 0-10, we'll use -1 if data missing\n",
    "    if 'rating' not in poi:\n",
    "        rating = -1\n",
    "    else:\n",
    "        rating = poi['rating']\n",
    "    \n",
    "    lat = poi['geocodes']['main']['latitude']\n",
    "    lon = poi['geocodes']['main']['longitude']\n",
    "    \n",
    "    details = {\n",
    "        'name': poi['name'],\n",
    "        'address': address,\n",
    "        'rating': rating,\n",
    "        'price': price,\n",
    "        'popularity': poi['popularity'],\n",
    "        'verified': poi['verified'],\n",
    "        'station_idx': poi['station_idx'],\n",
    "        'distance': poi['distance'],\n",
    "        'lat_lon': str(lat) + ',' + str(lon)\n",
    "        }\n",
    "    details_json.append(details)\n",
    "JSON(details_json[:5])"
   ]
  },
  {
   "cell_type": "markdown",
   "metadata": {},
   "source": [
    "Put your parsed results into a DataFrame"
   ]
  },
  {
   "cell_type": "code",
   "execution_count": 5,
   "metadata": {},
   "outputs": [
    {
     "data": {
      "text/html": [
       "<div>\n",
       "<style scoped>\n",
       "    .dataframe tbody tr th:only-of-type {\n",
       "        vertical-align: middle;\n",
       "    }\n",
       "\n",
       "    .dataframe tbody tr th {\n",
       "        vertical-align: top;\n",
       "    }\n",
       "\n",
       "    .dataframe thead th {\n",
       "        text-align: right;\n",
       "    }\n",
       "</style>\n",
       "<table border=\"1\" class=\"dataframe\">\n",
       "  <thead>\n",
       "    <tr style=\"text-align: right;\">\n",
       "      <th></th>\n",
       "      <th>name</th>\n",
       "      <th>address</th>\n",
       "      <th>rating</th>\n",
       "      <th>price</th>\n",
       "      <th>popularity</th>\n",
       "      <th>verified</th>\n",
       "      <th>station_idx</th>\n",
       "      <th>distance</th>\n",
       "      <th>lat_lon</th>\n",
       "    </tr>\n",
       "  </thead>\n",
       "  <tbody>\n",
       "    <tr>\n",
       "      <th>0</th>\n",
       "      <td>Strata Cafe University of Auckland</td>\n",
       "      <td>2 Alfred Street</td>\n",
       "      <td>6.5</td>\n",
       "      <td>1</td>\n",
       "      <td>0.872042</td>\n",
       "      <td>False</td>\n",
       "      <td>0</td>\n",
       "      <td>179</td>\n",
       "      <td>-36.851812,174.769457</td>\n",
       "    </tr>\n",
       "    <tr>\n",
       "      <th>1</th>\n",
       "      <td>Relax a Lodge</td>\n",
       "      <td>30-38 Princes Street</td>\n",
       "      <td>6.7</td>\n",
       "      <td>1</td>\n",
       "      <td>0.847445</td>\n",
       "      <td>False</td>\n",
       "      <td>0</td>\n",
       "      <td>253</td>\n",
       "      <td>-36.85209,174.768454</td>\n",
       "    </tr>\n",
       "    <tr>\n",
       "      <th>2</th>\n",
       "      <td>Uni Sushi</td>\n",
       "      <td>30-38 Princes Street</td>\n",
       "      <td>6.3</td>\n",
       "      <td>2</td>\n",
       "      <td>0.782452</td>\n",
       "      <td>False</td>\n",
       "      <td>0</td>\n",
       "      <td>206</td>\n",
       "      <td>-36.852262,174.768509</td>\n",
       "    </tr>\n",
       "    <tr>\n",
       "      <th>3</th>\n",
       "      <td>Jin Hai Wan Chinese Seafood Restaurant</td>\n",
       "      <td>57-59 Wakefield St</td>\n",
       "      <td>7.9</td>\n",
       "      <td>1</td>\n",
       "      <td>0.862401</td>\n",
       "      <td>False</td>\n",
       "      <td>0</td>\n",
       "      <td>404</td>\n",
       "      <td>-36.854518,174.765025</td>\n",
       "    </tr>\n",
       "    <tr>\n",
       "      <th>4</th>\n",
       "      <td>Piko Cafe</td>\n",
       "      <td>55 Wellesley Street East</td>\n",
       "      <td>7.3</td>\n",
       "      <td>1</td>\n",
       "      <td>0.952997</td>\n",
       "      <td>True</td>\n",
       "      <td>0</td>\n",
       "      <td>400</td>\n",
       "      <td>-36.852549,174.766527</td>\n",
       "    </tr>\n",
       "  </tbody>\n",
       "</table>\n",
       "</div>"
      ],
      "text/plain": [
       "                                     name                   address  rating   \n",
       "0      Strata Cafe University of Auckland           2 Alfred Street     6.5  \\\n",
       "1                           Relax a Lodge      30-38 Princes Street     6.7   \n",
       "2                               Uni Sushi      30-38 Princes Street     6.3   \n",
       "3  Jin Hai Wan Chinese Seafood Restaurant        57-59 Wakefield St     7.9   \n",
       "4                               Piko Cafe  55 Wellesley Street East     7.3   \n",
       "\n",
       "   price  popularity  verified  station_idx  distance                lat_lon  \n",
       "0      1    0.872042     False            0       179  -36.851812,174.769457  \n",
       "1      1    0.847445     False            0       253   -36.85209,174.768454  \n",
       "2      2    0.782452     False            0       206  -36.852262,174.768509  \n",
       "3      1    0.862401     False            0       404  -36.854518,174.765025  \n",
       "4      1    0.952997      True            0       400  -36.852549,174.766527  "
      ]
     },
     "execution_count": 5,
     "metadata": {},
     "output_type": "execute_result"
    }
   ],
   "source": [
    "# convert parsed results in pandas DataFrame\n",
    "foursquare_df = pd.json_normalize(details_json)\n",
    "foursquare_df.head()"
   ]
  },
  {
   "cell_type": "markdown",
   "metadata": {},
   "source": [
    "# Yelp"
   ]
  },
  {
   "cell_type": "markdown",
   "metadata": {},
   "source": [
    "Send a request to Yelp with a small radius (1000m) for all the bike stations in your city of choice. "
   ]
  },
  {
   "cell_type": "code",
   "execution_count": 6,
   "metadata": {},
   "outputs": [
    {
     "data": {
      "application/json": [
       {
        "alias": "depot-auckland",
        "categories": [
         {
          "alias": "tapasmallplates",
          "title": "Tapas/Small Plates"
         },
         {
          "alias": "seafood",
          "title": "Seafood"
         }
        ],
        "coordinates": {
         "latitude": -36.8489969,
         "longitude": 174.7625058
        },
        "display_phone": "+64 9 363 7048",
        "distance": 873.0042880685842,
        "id": "fs7DKRZhbNfEuL7lsCj9Vg",
        "image_url": "https://s3-media3.fl.yelpcdn.com/bphoto/gO88bPWTYBTXvl2EAGmURA/o.jpg",
        "is_closed": false,
        "location": {
         "address1": "86 Federal St",
         "address2": "Auckland Central",
         "address3": "",
         "city": "Auckland",
         "country": "NZ",
         "display_address": [
          "86 Federal St",
          "Auckland Central",
          "Auckland 1010",
          "New Zealand"
         ],
         "state": "AUK",
         "zip_code": "1010"
        },
        "name": "Depot",
        "phone": "+6493637048",
        "price": "$$$",
        "rating": 4.5,
        "review_count": 294,
        "station_idx": 0,
        "transactions": [],
        "url": "https://www.yelp.com/biz/depot-auckland?adjust_creative=fCr4JMeti8Ky556JDE9ZOg&utm_campaign=yelp_api_v3&utm_medium=api_v3_business_search&utm_source=fCr4JMeti8Ky556JDE9ZOg"
       },
       {
        "alias": "federal-delicatessen-auckland",
        "categories": [
         {
          "alias": "tradamerican",
          "title": "American (Traditional)"
         },
         {
          "alias": "diners",
          "title": "Diners"
         },
         {
          "alias": "delicatessen",
          "title": "Delicatessen"
         }
        ],
        "coordinates": {
         "latitude": -36.8489969,
         "longitude": 174.7625058
        },
        "display_phone": "+64 9 363 7048",
        "distance": 873.0042880685842,
        "id": "viYwvwC49wyaS8VlczPUqw",
        "image_url": "https://s3-media2.fl.yelpcdn.com/bphoto/74AhAS-3c75FG-N-aAovTQ/o.jpg",
        "is_closed": false,
        "location": {
         "address1": "86 Federal St",
         "address2": "",
         "address3": "",
         "city": "Auckland",
         "country": "NZ",
         "display_address": [
          "86 Federal St",
          "Auckland 1010",
          "New Zealand"
         ],
         "state": "AUK",
         "zip_code": "1010"
        },
        "name": "Federal Delicatessen",
        "phone": "+6493637048",
        "price": "$$",
        "rating": 4.5,
        "review_count": 201,
        "station_idx": 0,
        "transactions": [],
        "url": "https://www.yelp.com/biz/federal-delicatessen-auckland?adjust_creative=fCr4JMeti8Ky556JDE9ZOg&utm_campaign=yelp_api_v3&utm_medium=api_v3_business_search&utm_source=fCr4JMeti8Ky556JDE9ZOg"
       },
       {
        "alias": "woodpecker-hill-auckland",
        "categories": [
         {
          "alias": "asianfusion",
          "title": "Asian Fusion"
         },
         {
          "alias": "bars",
          "title": "Bars"
         },
         {
          "alias": "bbq",
          "title": "Barbeque"
         }
        ],
        "coordinates": {
         "latitude": -36.8546219,
         "longitude": 174.7801666
        },
        "display_phone": "+64 9 309 5055",
        "distance": 859.9294866965904,
        "id": "dFeDDrXVt7rY9P1jrC58Cg",
        "image_url": "https://s3-media4.fl.yelpcdn.com/bphoto/GsOENoHfh0aC5RBXtlTv7g/o.jpg",
        "is_closed": false,
        "location": {
         "address1": "196 Parnell Rd",
         "address2": "",
         "address3": "",
         "city": "Auckland",
         "country": "NZ",
         "display_address": [
          "196 Parnell Rd",
          "Auckland 1052",
          "New Zealand"
         ],
         "state": "AUK",
         "zip_code": "1052"
        },
        "name": "Woodpecker Hill",
        "phone": "+6493095055",
        "price": "$$$",
        "rating": 4.5,
        "review_count": 26,
        "station_idx": 0,
        "transactions": [],
        "url": "https://www.yelp.com/biz/woodpecker-hill-auckland?adjust_creative=fCr4JMeti8Ky556JDE9ZOg&utm_campaign=yelp_api_v3&utm_medium=api_v3_business_search&utm_source=fCr4JMeti8Ky556JDE9ZOg"
       },
       {
        "alias": "mamak-auckland",
        "categories": [
         {
          "alias": "malaysian",
          "title": "Malaysian"
         },
         {
          "alias": "tapasmallplates",
          "title": "Tapas/Small Plates"
         }
        ],
        "coordinates": {
         "latitude": -36.848316,
         "longitude": 174.76767
        },
        "display_phone": "+64 9 948 6479",
        "distance": 612.381650948749,
        "id": "YYabtxTfAv2ZkjvO0hdjMg",
        "image_url": "https://s3-media4.fl.yelpcdn.com/bphoto/fXWfnJnUHEBc_K8OZAuRSw/o.jpg",
        "is_closed": false,
        "location": {
         "address1": "50 Kitchener St",
         "address2": "Chancery Square",
         "address3": "",
         "city": "Auckland",
         "country": "NZ",
         "display_address": [
          "50 Kitchener St",
          "Chancery Square",
          "Auckland 1010",
          "New Zealand"
         ],
         "state": "AUK",
         "zip_code": "1010"
        },
        "name": "Mamak",
        "phone": "+6499486479",
        "price": "$",
        "rating": 4.5,
        "review_count": 60,
        "station_idx": 0,
        "transactions": [],
        "url": "https://www.yelp.com/biz/mamak-auckland?adjust_creative=fCr4JMeti8Ky556JDE9ZOg&utm_campaign=yelp_api_v3&utm_medium=api_v3_business_search&utm_source=fCr4JMeti8Ky556JDE9ZOg"
       },
       {
        "alias": "elliott-stables-auckland-2",
        "categories": [
         {
          "alias": "food_court",
          "title": "Food Court"
         }
        ],
        "coordinates": {
         "latitude": -36.8502509,
         "longitude": 174.7636168
        },
        "display_phone": "+64 21 104 4386",
        "distance": 717.3773275750312,
        "id": "KUin_pdzaGcxwbzp0MuS5w",
        "image_url": "https://s3-media4.fl.yelpcdn.com/bphoto/KIWmGb8D3r2mB1IhZdjMRw/o.jpg",
        "is_closed": false,
        "location": {
         "address1": "39 Elliott St",
         "address2": "Auckland CBD",
         "address3": "",
         "city": "Auckland",
         "country": "NZ",
         "display_address": [
          "39 Elliott St",
          "Auckland CBD",
          "Auckland 1010",
          "New Zealand"
         ],
         "state": "AUK",
         "zip_code": "1010"
        },
        "name": "Elliott Stables",
        "phone": "+64211044386",
        "price": "$$",
        "rating": 4.5,
        "review_count": 72,
        "station_idx": 0,
        "transactions": [],
        "url": "https://www.yelp.com/biz/elliott-stables-auckland-2?adjust_creative=fCr4JMeti8Ky556JDE9ZOg&utm_campaign=yelp_api_v3&utm_medium=api_v3_business_search&utm_source=fCr4JMeti8Ky556JDE9ZOg"
       }
      ],
      "text/plain": [
       "<IPython.core.display.JSON object>"
      ]
     },
     "execution_count": 6,
     "metadata": {
      "application/json": {
       "expanded": false,
       "root": "root"
      }
     },
     "output_type": "execute_result"
    }
   ],
   "source": [
    "# retrieve api key from local environment variables\n",
    "yelp_api_key = os.environ[\"YELP_API_KEY\"]\n",
    "# create dictionary for headers\n",
    "headers = {\"Accept\": \"application/json\"}\n",
    "headers['Authorization'] = 'Bearer ' + yelp_api_key\n",
    "\n",
    "# create dictionary for params, with placeholder for latitude/longitude\n",
    "params = {}\n",
    "params['latitude'] = '0'\n",
    "params['longitude'] = '0'\n",
    "params['radius'] = '1000'\n",
    "params['limit'] = '10' # limit of 10 to match foursquare\n",
    "params['term'] = 'restaurant'\n",
    "\n",
    "# query yelp for each bike station and collect the results\n",
    "url = 'https://api.yelp.com/v3/businesses/search'\n",
    "yelp_json = []\n",
    "for i in range(num_stations):\n",
    "    ll_split = lat_lons[i].split(',')\n",
    "    params['latitude'] = ll_split[0]\n",
    "    params['longitude'] = ll_split[1]\n",
    "    result = requests.get(url, params = params, headers = headers)\n",
    "    result_json = result.json()['businesses']\n",
    "    # record the station index for later use\n",
    "    for poi in result_json:\n",
    "        poi['station_idx'] = i\n",
    "    yelp_json.extend(result_json)\n",
    "JSON(yelp_json[:5])"
   ]
  },
  {
   "cell_type": "markdown",
   "metadata": {},
   "source": [
    "Parse through the response to get the POI (such as restaurants, bars, etc) details you want (ratings, name, location, etc)"
   ]
  },
  {
   "cell_type": "code",
   "execution_count": 7,
   "metadata": {},
   "outputs": [
    {
     "data": {
      "application/json": [
       {
        "address": "86 Federal St",
        "distance": 873.0042880685842,
        "lat_lon": "-36.8489969,174.7625058",
        "name": "Depot",
        "price": 3,
        "rating": 4.5,
        "review_count": 294,
        "station_idx": 0
       },
       {
        "address": "86 Federal St",
        "distance": 873.0042880685842,
        "lat_lon": "-36.8489969,174.7625058",
        "name": "Federal Delicatessen",
        "price": 2,
        "rating": 4.5,
        "review_count": 201,
        "station_idx": 0
       },
       {
        "address": "196 Parnell Rd",
        "distance": 859.9294866965904,
        "lat_lon": "-36.8546219,174.7801666",
        "name": "Woodpecker Hill",
        "price": 3,
        "rating": 4.5,
        "review_count": 26,
        "station_idx": 0
       },
       {
        "address": "50 Kitchener St",
        "distance": 612.381650948749,
        "lat_lon": "-36.848316,174.76767",
        "name": "Mamak",
        "price": 1,
        "rating": 4.5,
        "review_count": 60,
        "station_idx": 0
       },
       {
        "address": "39 Elliott St",
        "distance": 717.3773275750312,
        "lat_lon": "-36.8502509,174.7636168",
        "name": "Elliott Stables",
        "price": 2,
        "rating": 4.5,
        "review_count": 72,
        "station_idx": 0
       }
      ],
      "text/plain": [
       "<IPython.core.display.JSON object>"
      ]
     },
     "execution_count": 7,
     "metadata": {
      "application/json": {
       "expanded": false,
       "root": "root"
      }
     },
     "output_type": "execute_result"
    }
   ],
   "source": [
    "# placeholders for the yelp parsing loop\n",
    "details_json = []\n",
    "details = {}\n",
    "\n",
    "# parse through the yelp response for desired details\n",
    "for poi in yelp_json:\n",
    "    address = poi['location']['address1']\n",
    "    \n",
    "    # price is 1-4 $ symbols, we'll use -1 if data missing\n",
    "    if 'price' not in poi:\n",
    "        price = -1\n",
    "    else:\n",
    "        price = len(poi['price'])\n",
    "    \n",
    "    # rating is scale from 0-5 in 0.5 increments, we'll use -1 if data missing\n",
    "    if 'rating' not in poi:\n",
    "        rating = -1\n",
    "    else:\n",
    "        rating = poi['rating']\n",
    "    \n",
    "    lat = poi['coordinates']['latitude']\n",
    "    lon = poi['coordinates']['longitude']\n",
    "    \n",
    "    details = {\n",
    "        'name': poi['name'],\n",
    "        'address': address,\n",
    "        'rating': rating,\n",
    "        'price': price,\n",
    "        'review_count': poi['review_count'],\n",
    "        'station_idx': poi['station_idx'],\n",
    "        'distance': poi['distance'],\n",
    "        'lat_lon': str(lat) + ',' + str(lon)\n",
    "        }\n",
    "    details_json.append(details)\n",
    "JSON(details_json[:5])"
   ]
  },
  {
   "cell_type": "markdown",
   "metadata": {},
   "source": [
    "Put your parsed results into a DataFrame"
   ]
  },
  {
   "cell_type": "code",
   "execution_count": 8,
   "metadata": {},
   "outputs": [
    {
     "data": {
      "text/html": [
       "<div>\n",
       "<style scoped>\n",
       "    .dataframe tbody tr th:only-of-type {\n",
       "        vertical-align: middle;\n",
       "    }\n",
       "\n",
       "    .dataframe tbody tr th {\n",
       "        vertical-align: top;\n",
       "    }\n",
       "\n",
       "    .dataframe thead th {\n",
       "        text-align: right;\n",
       "    }\n",
       "</style>\n",
       "<table border=\"1\" class=\"dataframe\">\n",
       "  <thead>\n",
       "    <tr style=\"text-align: right;\">\n",
       "      <th></th>\n",
       "      <th>name</th>\n",
       "      <th>address</th>\n",
       "      <th>rating</th>\n",
       "      <th>price</th>\n",
       "      <th>review_count</th>\n",
       "      <th>station_idx</th>\n",
       "      <th>distance</th>\n",
       "      <th>lat_lon</th>\n",
       "    </tr>\n",
       "  </thead>\n",
       "  <tbody>\n",
       "    <tr>\n",
       "      <th>0</th>\n",
       "      <td>Depot</td>\n",
       "      <td>86 Federal St</td>\n",
       "      <td>4.5</td>\n",
       "      <td>3</td>\n",
       "      <td>294</td>\n",
       "      <td>0</td>\n",
       "      <td>873.004288</td>\n",
       "      <td>-36.8489969,174.7625058</td>\n",
       "    </tr>\n",
       "    <tr>\n",
       "      <th>1</th>\n",
       "      <td>Federal Delicatessen</td>\n",
       "      <td>86 Federal St</td>\n",
       "      <td>4.5</td>\n",
       "      <td>2</td>\n",
       "      <td>201</td>\n",
       "      <td>0</td>\n",
       "      <td>873.004288</td>\n",
       "      <td>-36.8489969,174.7625058</td>\n",
       "    </tr>\n",
       "    <tr>\n",
       "      <th>2</th>\n",
       "      <td>Woodpecker Hill</td>\n",
       "      <td>196 Parnell Rd</td>\n",
       "      <td>4.5</td>\n",
       "      <td>3</td>\n",
       "      <td>26</td>\n",
       "      <td>0</td>\n",
       "      <td>859.929487</td>\n",
       "      <td>-36.8546219,174.7801666</td>\n",
       "    </tr>\n",
       "    <tr>\n",
       "      <th>3</th>\n",
       "      <td>Mamak</td>\n",
       "      <td>50 Kitchener St</td>\n",
       "      <td>4.5</td>\n",
       "      <td>1</td>\n",
       "      <td>60</td>\n",
       "      <td>0</td>\n",
       "      <td>612.381651</td>\n",
       "      <td>-36.848316,174.76767</td>\n",
       "    </tr>\n",
       "    <tr>\n",
       "      <th>4</th>\n",
       "      <td>Elliott Stables</td>\n",
       "      <td>39 Elliott St</td>\n",
       "      <td>4.5</td>\n",
       "      <td>2</td>\n",
       "      <td>72</td>\n",
       "      <td>0</td>\n",
       "      <td>717.377328</td>\n",
       "      <td>-36.8502509,174.7636168</td>\n",
       "    </tr>\n",
       "  </tbody>\n",
       "</table>\n",
       "</div>"
      ],
      "text/plain": [
       "                   name          address  rating  price  review_count   \n",
       "0                 Depot    86 Federal St     4.5      3           294  \\\n",
       "1  Federal Delicatessen    86 Federal St     4.5      2           201   \n",
       "2       Woodpecker Hill   196 Parnell Rd     4.5      3            26   \n",
       "3                 Mamak  50 Kitchener St     4.5      1            60   \n",
       "4       Elliott Stables    39 Elliott St     4.5      2            72   \n",
       "\n",
       "   station_idx    distance                  lat_lon  \n",
       "0            0  873.004288  -36.8489969,174.7625058  \n",
       "1            0  873.004288  -36.8489969,174.7625058  \n",
       "2            0  859.929487  -36.8546219,174.7801666  \n",
       "3            0  612.381651     -36.848316,174.76767  \n",
       "4            0  717.377328  -36.8502509,174.7636168  "
      ]
     },
     "execution_count": 8,
     "metadata": {},
     "output_type": "execute_result"
    }
   ],
   "source": [
    "# convert parsed results in pandas DataFrame\n",
    "yelp_df = pd.json_normalize(details_json)\n",
    "yelp_df.head()"
   ]
  },
  {
   "cell_type": "markdown",
   "metadata": {},
   "source": [
    "# Comparing Results"
   ]
  },
  {
   "cell_type": "markdown",
   "metadata": {},
   "source": [
    "Which API provided you with more complete data? Provide an explanation. "
   ]
  },
  {
   "cell_type": "markdown",
   "metadata": {},
   "source": [
    "Yelp seemed to provide more complete data, as well as providing said data up front. Foursquare required rich data fields to be specified in order for them to be retrieved. Yelp provided everything without being explicitly told to do so. Additionally, Yelp contains fields for additional addresses, phone numbers, and review count. Finally, Yelp seemed to have orders of magnitude more places of interest in their database than Foursquare."
   ]
  },
  {
   "cell_type": "markdown",
   "metadata": {},
   "source": [
    "Get the top 10 restaurants according to their rating"
   ]
  },
  {
   "cell_type": "code",
   "execution_count": 9,
   "metadata": {},
   "outputs": [
    {
     "data": {
      "text/html": [
       "<div>\n",
       "<style scoped>\n",
       "    .dataframe tbody tr th:only-of-type {\n",
       "        vertical-align: middle;\n",
       "    }\n",
       "\n",
       "    .dataframe tbody tr th {\n",
       "        vertical-align: top;\n",
       "    }\n",
       "\n",
       "    .dataframe thead th {\n",
       "        text-align: right;\n",
       "    }\n",
       "</style>\n",
       "<table border=\"1\" class=\"dataframe\">\n",
       "  <thead>\n",
       "    <tr style=\"text-align: right;\">\n",
       "      <th></th>\n",
       "      <th>name</th>\n",
       "      <th>address</th>\n",
       "      <th>rating</th>\n",
       "      <th>price</th>\n",
       "      <th>popularity</th>\n",
       "      <th>verified</th>\n",
       "      <th>station_idx</th>\n",
       "      <th>distance</th>\n",
       "      <th>lat_lon</th>\n",
       "    </tr>\n",
       "  </thead>\n",
       "  <tbody>\n",
       "    <tr>\n",
       "      <th>143</th>\n",
       "      <td>Depot Eatery &amp; Oyster Bar</td>\n",
       "      <td>86 Federal St</td>\n",
       "      <td>9.0</td>\n",
       "      <td>2</td>\n",
       "      <td>0.988079</td>\n",
       "      <td>False</td>\n",
       "      <td>14</td>\n",
       "      <td>136</td>\n",
       "      <td>-36.849102,174.762433</td>\n",
       "    </tr>\n",
       "    <tr>\n",
       "      <th>278</th>\n",
       "      <td>The Store</td>\n",
       "      <td>5B Gore Street</td>\n",
       "      <td>9.0</td>\n",
       "      <td>1</td>\n",
       "      <td>0.992190</td>\n",
       "      <td>False</td>\n",
       "      <td>27</td>\n",
       "      <td>203</td>\n",
       "      <td>-36.844625,174.768839</td>\n",
       "    </tr>\n",
       "    <tr>\n",
       "      <th>39</th>\n",
       "      <td>Federal Delicatessen</td>\n",
       "      <td>86 Federal Street</td>\n",
       "      <td>8.9</td>\n",
       "      <td>2</td>\n",
       "      <td>0.992908</td>\n",
       "      <td>False</td>\n",
       "      <td>3</td>\n",
       "      <td>303</td>\n",
       "      <td>-36.849102,174.762433</td>\n",
       "    </tr>\n",
       "    <tr>\n",
       "      <th>144</th>\n",
       "      <td>Federal Delicatessen</td>\n",
       "      <td>86 Federal Street</td>\n",
       "      <td>8.9</td>\n",
       "      <td>2</td>\n",
       "      <td>0.992908</td>\n",
       "      <td>False</td>\n",
       "      <td>14</td>\n",
       "      <td>152</td>\n",
       "      <td>-36.849102,174.762433</td>\n",
       "    </tr>\n",
       "    <tr>\n",
       "      <th>272</th>\n",
       "      <td>Ebisu</td>\n",
       "      <td>116-118 Quay Street</td>\n",
       "      <td>8.9</td>\n",
       "      <td>2</td>\n",
       "      <td>0.936389</td>\n",
       "      <td>False</td>\n",
       "      <td>27</td>\n",
       "      <td>146</td>\n",
       "      <td>-36.844175,174.769787</td>\n",
       "    </tr>\n",
       "    <tr>\n",
       "      <th>60</th>\n",
       "      <td>El Sizzling Chorizo</td>\n",
       "      <td>136-138 Ponsonby Road</td>\n",
       "      <td>8.8</td>\n",
       "      <td>2</td>\n",
       "      <td>0.945671</td>\n",
       "      <td>False</td>\n",
       "      <td>6</td>\n",
       "      <td>37</td>\n",
       "      <td>-36.856306,174.746281</td>\n",
       "    </tr>\n",
       "    <tr>\n",
       "      <th>123</th>\n",
       "      <td>Cassia</td>\n",
       "      <td>5 Fort Lane</td>\n",
       "      <td>8.8</td>\n",
       "      <td>2</td>\n",
       "      <td>0.963984</td>\n",
       "      <td>False</td>\n",
       "      <td>12</td>\n",
       "      <td>128</td>\n",
       "      <td>-36.845763,174.766991</td>\n",
       "    </tr>\n",
       "    <tr>\n",
       "      <th>141</th>\n",
       "      <td>Tony's Original Steak &amp; Seafood Restaurant</td>\n",
       "      <td>27 Wellesley Street</td>\n",
       "      <td>8.8</td>\n",
       "      <td>4</td>\n",
       "      <td>0.983823</td>\n",
       "      <td>False</td>\n",
       "      <td>14</td>\n",
       "      <td>121</td>\n",
       "      <td>-36.850359,174.763159</td>\n",
       "    </tr>\n",
       "    <tr>\n",
       "      <th>259</th>\n",
       "      <td>Swashbucklers Restaurant</td>\n",
       "      <td>23 Westhaven Drive</td>\n",
       "      <td>8.8</td>\n",
       "      <td>3</td>\n",
       "      <td>0.957431</td>\n",
       "      <td>False</td>\n",
       "      <td>25</td>\n",
       "      <td>436</td>\n",
       "      <td>-36.843723,174.751944</td>\n",
       "    </tr>\n",
       "    <tr>\n",
       "      <th>8</th>\n",
       "      <td>Mrs Higgins Oven Fresh Cookies</td>\n",
       "      <td>268 Queen Street</td>\n",
       "      <td>8.7</td>\n",
       "      <td>1</td>\n",
       "      <td>0.950142</td>\n",
       "      <td>False</td>\n",
       "      <td>0</td>\n",
       "      <td>638</td>\n",
       "      <td>-36.850198,174.76499</td>\n",
       "    </tr>\n",
       "  </tbody>\n",
       "</table>\n",
       "</div>"
      ],
      "text/plain": [
       "                                           name                address   \n",
       "143                   Depot Eatery & Oyster Bar          86 Federal St  \\\n",
       "278                                   The Store         5B Gore Street   \n",
       "39                         Federal Delicatessen      86 Federal Street   \n",
       "144                        Federal Delicatessen      86 Federal Street   \n",
       "272                                       Ebisu    116-118 Quay Street   \n",
       "60                          El Sizzling Chorizo  136-138 Ponsonby Road   \n",
       "123                                      Cassia            5 Fort Lane   \n",
       "141  Tony's Original Steak & Seafood Restaurant    27 Wellesley Street   \n",
       "259                    Swashbucklers Restaurant     23 Westhaven Drive   \n",
       "8                Mrs Higgins Oven Fresh Cookies       268 Queen Street   \n",
       "\n",
       "     rating  price  popularity  verified  station_idx  distance   \n",
       "143     9.0      2    0.988079     False           14       136  \\\n",
       "278     9.0      1    0.992190     False           27       203   \n",
       "39      8.9      2    0.992908     False            3       303   \n",
       "144     8.9      2    0.992908     False           14       152   \n",
       "272     8.9      2    0.936389     False           27       146   \n",
       "60      8.8      2    0.945671     False            6        37   \n",
       "123     8.8      2    0.963984     False           12       128   \n",
       "141     8.8      4    0.983823     False           14       121   \n",
       "259     8.8      3    0.957431     False           25       436   \n",
       "8       8.7      1    0.950142     False            0       638   \n",
       "\n",
       "                   lat_lon  \n",
       "143  -36.849102,174.762433  \n",
       "278  -36.844625,174.768839  \n",
       "39   -36.849102,174.762433  \n",
       "144  -36.849102,174.762433  \n",
       "272  -36.844175,174.769787  \n",
       "60   -36.856306,174.746281  \n",
       "123  -36.845763,174.766991  \n",
       "141  -36.850359,174.763159  \n",
       "259  -36.843723,174.751944  \n",
       "8     -36.850198,174.76499  "
      ]
     },
     "execution_count": 9,
     "metadata": {},
     "output_type": "execute_result"
    }
   ],
   "source": [
    "# top 10 according to Foursquare\n",
    "foursquare_df.nlargest(10, 'rating')"
   ]
  },
  {
   "cell_type": "code",
   "execution_count": 10,
   "metadata": {},
   "outputs": [
    {
     "data": {
      "text/html": [
       "<div>\n",
       "<style scoped>\n",
       "    .dataframe tbody tr th:only-of-type {\n",
       "        vertical-align: middle;\n",
       "    }\n",
       "\n",
       "    .dataframe tbody tr th {\n",
       "        vertical-align: top;\n",
       "    }\n",
       "\n",
       "    .dataframe thead th {\n",
       "        text-align: right;\n",
       "    }\n",
       "</style>\n",
       "<table border=\"1\" class=\"dataframe\">\n",
       "  <thead>\n",
       "    <tr style=\"text-align: right;\">\n",
       "      <th></th>\n",
       "      <th>name</th>\n",
       "      <th>address</th>\n",
       "      <th>rating</th>\n",
       "      <th>price</th>\n",
       "      <th>review_count</th>\n",
       "      <th>station_idx</th>\n",
       "      <th>distance</th>\n",
       "      <th>lat_lon</th>\n",
       "    </tr>\n",
       "  </thead>\n",
       "  <tbody>\n",
       "    <tr>\n",
       "      <th>9</th>\n",
       "      <td>That's Amore</td>\n",
       "      <td>1 Courthouse Ln</td>\n",
       "      <td>5.0</td>\n",
       "      <td>2</td>\n",
       "      <td>30</td>\n",
       "      <td>0</td>\n",
       "      <td>652.170623</td>\n",
       "      <td>-36.848159,174.767093</td>\n",
       "    </tr>\n",
       "    <tr>\n",
       "      <th>24</th>\n",
       "      <td>Fondou Café</td>\n",
       "      <td>157 Hobson St</td>\n",
       "      <td>5.0</td>\n",
       "      <td>-1</td>\n",
       "      <td>13</td>\n",
       "      <td>2</td>\n",
       "      <td>353.675748</td>\n",
       "      <td>-36.8511499,174.75997</td>\n",
       "    </tr>\n",
       "    <tr>\n",
       "      <th>46</th>\n",
       "      <td>That's Amore</td>\n",
       "      <td>1 Courthouse Ln</td>\n",
       "      <td>5.0</td>\n",
       "      <td>2</td>\n",
       "      <td>30</td>\n",
       "      <td>4</td>\n",
       "      <td>50.281155</td>\n",
       "      <td>-36.848159,174.767093</td>\n",
       "    </tr>\n",
       "    <tr>\n",
       "      <th>47</th>\n",
       "      <td>King Made Noodles</td>\n",
       "      <td>48 fort St</td>\n",
       "      <td>5.0</td>\n",
       "      <td>-1</td>\n",
       "      <td>8</td>\n",
       "      <td>4</td>\n",
       "      <td>248.243417</td>\n",
       "      <td>-36.84611,174.76898</td>\n",
       "    </tr>\n",
       "    <tr>\n",
       "      <th>49</th>\n",
       "      <td>Culprit</td>\n",
       "      <td>12 Wyndham St</td>\n",
       "      <td>5.0</td>\n",
       "      <td>-1</td>\n",
       "      <td>6</td>\n",
       "      <td>4</td>\n",
       "      <td>173.953721</td>\n",
       "      <td>-36.8472807369516,174.765146102108</td>\n",
       "    </tr>\n",
       "    <tr>\n",
       "      <th>54</th>\n",
       "      <td>Pedro's House of Lamb</td>\n",
       "      <td>6/4 Williamson Ave</td>\n",
       "      <td>5.0</td>\n",
       "      <td>3</td>\n",
       "      <td>3</td>\n",
       "      <td>5</td>\n",
       "      <td>21.430600</td>\n",
       "      <td>-36.8583585243259,174.748555253161</td>\n",
       "    </tr>\n",
       "    <tr>\n",
       "      <th>88</th>\n",
       "      <td>Between Cafe &amp; Eatery</td>\n",
       "      <td>82 Karangahape Rd</td>\n",
       "      <td>5.0</td>\n",
       "      <td>2</td>\n",
       "      <td>26</td>\n",
       "      <td>8</td>\n",
       "      <td>477.520635</td>\n",
       "      <td>-36.8581,174.7619</td>\n",
       "    </tr>\n",
       "    <tr>\n",
       "      <th>92</th>\n",
       "      <td>Between Cafe &amp; Eatery</td>\n",
       "      <td>82 Karangahape Rd</td>\n",
       "      <td>5.0</td>\n",
       "      <td>2</td>\n",
       "      <td>26</td>\n",
       "      <td>9</td>\n",
       "      <td>78.434665</td>\n",
       "      <td>-36.8581,174.7619</td>\n",
       "    </tr>\n",
       "    <tr>\n",
       "      <th>109</th>\n",
       "      <td>Between Cafe &amp; Eatery</td>\n",
       "      <td>82 Karangahape Rd</td>\n",
       "      <td>5.0</td>\n",
       "      <td>2</td>\n",
       "      <td>26</td>\n",
       "      <td>10</td>\n",
       "      <td>424.290095</td>\n",
       "      <td>-36.8581,174.7619</td>\n",
       "    </tr>\n",
       "    <tr>\n",
       "      <th>112</th>\n",
       "      <td>Between Cafe &amp; Eatery</td>\n",
       "      <td>82 Karangahape Rd</td>\n",
       "      <td>5.0</td>\n",
       "      <td>2</td>\n",
       "      <td>26</td>\n",
       "      <td>11</td>\n",
       "      <td>153.407220</td>\n",
       "      <td>-36.8581,174.7619</td>\n",
       "    </tr>\n",
       "  </tbody>\n",
       "</table>\n",
       "</div>"
      ],
      "text/plain": [
       "                      name             address  rating  price  review_count   \n",
       "9             That's Amore     1 Courthouse Ln     5.0      2            30  \\\n",
       "24             Fondou Café       157 Hobson St     5.0     -1            13   \n",
       "46            That's Amore     1 Courthouse Ln     5.0      2            30   \n",
       "47       King Made Noodles          48 fort St     5.0     -1             8   \n",
       "49                 Culprit       12 Wyndham St     5.0     -1             6   \n",
       "54   Pedro's House of Lamb  6/4 Williamson Ave     5.0      3             3   \n",
       "88   Between Cafe & Eatery   82 Karangahape Rd     5.0      2            26   \n",
       "92   Between Cafe & Eatery   82 Karangahape Rd     5.0      2            26   \n",
       "109  Between Cafe & Eatery   82 Karangahape Rd     5.0      2            26   \n",
       "112  Between Cafe & Eatery   82 Karangahape Rd     5.0      2            26   \n",
       "\n",
       "     station_idx    distance                             lat_lon  \n",
       "9              0  652.170623               -36.848159,174.767093  \n",
       "24             2  353.675748               -36.8511499,174.75997  \n",
       "46             4   50.281155               -36.848159,174.767093  \n",
       "47             4  248.243417                 -36.84611,174.76898  \n",
       "49             4  173.953721  -36.8472807369516,174.765146102108  \n",
       "54             5   21.430600  -36.8583585243259,174.748555253161  \n",
       "88             8  477.520635                   -36.8581,174.7619  \n",
       "92             9   78.434665                   -36.8581,174.7619  \n",
       "109           10  424.290095                   -36.8581,174.7619  \n",
       "112           11  153.407220                   -36.8581,174.7619  "
      ]
     },
     "execution_count": 10,
     "metadata": {},
     "output_type": "execute_result"
    }
   ],
   "source": [
    "# top 10 according to Yelp\n",
    "yelp_df.nlargest(10, 'rating')"
   ]
  },
  {
   "cell_type": "code",
   "execution_count": 11,
   "metadata": {},
   "outputs": [],
   "source": [
    "# save POI data to csv for use in other notebooks\n",
    "foursquare_df.to_csv('../data/foursquare.csv', index=False)\n",
    "yelp_df.to_csv('../data/yelp.csv', index=False)"
   ]
  }
 ],
 "metadata": {
  "kernelspec": {
   "display_name": "Python 3 (ipykernel)",
   "language": "python",
   "name": "python3"
  },
  "language_info": {
   "codemirror_mode": {
    "name": "ipython",
    "version": 3
   },
   "file_extension": ".py",
   "mimetype": "text/x-python",
   "name": "python",
   "nbconvert_exporter": "python",
   "pygments_lexer": "ipython3",
   "version": "3.8.16"
  }
 },
 "nbformat": 4,
 "nbformat_minor": 4
}
